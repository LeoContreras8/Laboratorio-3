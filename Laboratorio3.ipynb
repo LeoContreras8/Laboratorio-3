{
 "cells": [
  {
   "attachments": {},
   "cell_type": "markdown",
   "metadata": {},
   "source": [
    "###### Maestría Inteligencia de Negocios y Análisis de Datos\n",
    "###### Curso: Statistical Learning I\n",
    "###### Alumno: 22008375- Leonel Eduardo Contreras\n",
    "###### Sección L\n",
    "\n",
    "## Laboratorio 3"
   ]
  }
 ],
 "metadata": {
  "language_info": {
   "name": "python"
  },
  "orig_nbformat": 4
 },
 "nbformat": 4,
 "nbformat_minor": 2
}
