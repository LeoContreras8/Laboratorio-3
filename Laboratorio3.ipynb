{
 "cells": [
  {
   "attachments": {},
   "cell_type": "markdown",
   "metadata": {},
   "source": [
    "###### Maestría Inteligencia de Negocios y Análisis de Datos\n",
    "###### Curso: Statistical Learning I\n",
    "###### Alumno: 22008375- Leonel Eduardo Contreras\n",
    "###### Sección L\n",
    "\n",
    "## Laboratorio 3"
   ]
  },
  {
   "attachments": {},
   "cell_type": "markdown",
   "metadata": {},
   "source": [
    "#### Importar librerias"
   ]
  },
  {
   "cell_type": "code",
   "execution_count": 91,
   "metadata": {},
   "outputs": [],
   "source": [
    "import pandas as pd\n",
    "import numpy as np\n",
    "import matplotlib.pyplot as plt\n",
    "import seaborn as sns"
   ]
  },
  {
   "attachments": {},
   "cell_type": "markdown",
   "metadata": {},
   "source": [
    "#### Cargar Dataset"
   ]
  },
  {
   "cell_type": "code",
   "execution_count": 79,
   "metadata": {},
   "outputs": [],
   "source": [
    "data=pd.read_csv('train.csv')"
   ]
  },
  {
   "attachments": {},
   "cell_type": "markdown",
   "metadata": {},
   "source": [
    "#### Explorar Dataset"
   ]
  },
  {
   "cell_type": "code",
   "execution_count": 80,
   "metadata": {},
   "outputs": [
    {
     "data": {
      "text/plain": [
       "(14447, 11)"
      ]
     },
     "execution_count": 80,
     "metadata": {},
     "output_type": "execute_result"
    }
   ],
   "source": [
    "## Forma del dataset\n",
    "data.shape"
   ]
  },
  {
   "cell_type": "code",
   "execution_count": 81,
   "metadata": {},
   "outputs": [
    {
     "data": {
      "text/plain": [
       "Index(['id', 'longitude', 'latitude', 'housing_median_age', 'total_rooms',\n",
       "       'total_bedrooms', 'population', 'households', 'median_income',\n",
       "       'median_house_value', 'ocean_proximity'],\n",
       "      dtype='object')"
      ]
     },
     "execution_count": 81,
     "metadata": {},
     "output_type": "execute_result"
    }
   ],
   "source": [
    "## Columnas del dataset\n",
    "data.columns"
   ]
  },
  {
   "cell_type": "code",
   "execution_count": 82,
   "metadata": {},
   "outputs": [
    {
     "data": {
      "text/plain": [
       "id                      int64\n",
       "longitude             float64\n",
       "latitude              float64\n",
       "housing_median_age      int64\n",
       "total_rooms             int64\n",
       "total_bedrooms        float64\n",
       "population              int64\n",
       "households              int64\n",
       "median_income         float64\n",
       "median_house_value    float64\n",
       "ocean_proximity        object\n",
       "dtype: object"
      ]
     },
     "execution_count": 82,
     "metadata": {},
     "output_type": "execute_result"
    }
   ],
   "source": [
    "## Tipos de datos\n",
    "data.dtypes"
   ]
  },
  {
   "attachments": {},
   "cell_type": "markdown",
   "metadata": {},
   "source": [
    "### Ingenieria de Caracteristicas"
   ]
  },
  {
   "attachments": {},
   "cell_type": "markdown",
   "metadata": {},
   "source": [
    "#### 1. Columnas con Nulos"
   ]
  },
  {
   "cell_type": "code",
   "execution_count": 83,
   "metadata": {},
   "outputs": [
    {
     "name": "stdout",
     "output_type": "stream",
     "text": [
      "El dataset tiene: 1 columnas con Nulos y son  ['total_bedrooms']\n"
     ]
    }
   ],
   "source": [
    "cols_NA=[] ## Variable vacia, que se llenara con los nulos\n",
    "for col in data.columns:\n",
    "    if data[col].isnull().any()==1: ## Si la columna del dataset es 1 (True) es que tiene Nulos\n",
    "        cols_NA.append(col) ##Se agrega a la variable la columna que cumple tener Nulos\n",
    "print(f\"El dataset tiene: {len(cols_NA)} columnas con Nulos y son  {cols_NA}\")\n"
   ]
  },
  {
   "attachments": {},
   "cell_type": "markdown",
   "metadata": {},
   "source": [
    "#### 2. Proporción de Nulos para cada columna con faltantes"
   ]
  },
  {
   "cell_type": "code",
   "execution_count": 84,
   "metadata": {},
   "outputs": [
    {
     "data": {
      "text/plain": [
       "total_bedrooms    0.009483\n",
       "dtype: float64"
      ]
     },
     "execution_count": 84,
     "metadata": {},
     "output_type": "execute_result"
    }
   ],
   "source": [
    "## Media de los Nulos\n",
    "media_nulos=data[cols_NA].isnull().mean()\n",
    "media_nulos"
   ]
  },
  {
   "cell_type": "code",
   "execution_count": 85,
   "metadata": {},
   "outputs": [
    {
     "data": {
      "text/plain": [
       "<BarContainer object of 1 artists>"
      ]
     },
     "execution_count": 85,
     "metadata": {},
     "output_type": "execute_result"
    },
    {
     "data": {
      "image/png": "[encoded data removed]",
      "text/plain": [
       "<Figure size 640x480 with 1 Axes>"
      ]
     },
     "metadata": {},
     "output_type": "display_data"
    }
   ],
   "source": [
    "## Grafica\n",
    "plt.bar(cols_NA,media_nulos)\n"
   ]
  },
  {
   "attachments": {},
   "cell_type": "markdown",
   "metadata": {},
   "source": [
    "#### 3. Imputación de datos numericos"
   ]
  },
  {
   "attachments": {},
   "cell_type": "markdown",
   "metadata": {},
   "source": [
    "##### a. Eliminar faltantes"
   ]
  },
  {
   "cell_type": "code",
   "execution_count": 86,
   "metadata": {},
   "outputs": [
    {
     "data": {
      "text/html": [
       "<div>\n",
       "<style scoped>\n",
       "    .dataframe tbody tr th:only-of-type {\n",
       "        vertical-align: middle;\n",
       "    }\n",
       "\n",
       "    .dataframe tbody tr th {\n",
       "        vertical-align: top;\n",
       "    }\n",
       "\n",
       "    .dataframe thead th {\n",
       "        text-align: right;\n",
       "    }\n",
       "</style>\n",
       "<table border=\"1\" class=\"dataframe\">\n",
       "  <thead>\n",
       "    <tr style=\"text-align: right;\">\n",
       "      <th></th>\n",
       "      <th>id</th>\n",
       "      <th>longitude</th>\n",
       "      <th>latitude</th>\n",
       "      <th>housing_median_age</th>\n",
       "      <th>total_rooms</th>\n",
       "      <th>total_bedrooms</th>\n",
       "      <th>population</th>\n",
       "      <th>households</th>\n",
       "      <th>median_income</th>\n",
       "      <th>median_house_value</th>\n",
       "      <th>ocean_proximity</th>\n",
       "    </tr>\n",
       "  </thead>\n",
       "  <tbody>\n",
       "    <tr>\n",
       "      <th>0</th>\n",
       "      <td>9744</td>\n",
       "      <td>-121.65</td>\n",
       "      <td>36.77</td>\n",
       "      <td>15</td>\n",
       "      <td>2191</td>\n",
       "      <td>358.0</td>\n",
       "      <td>1150</td>\n",
       "      <td>330</td>\n",
       "      <td>4.7969</td>\n",
       "      <td>227500.0</td>\n",
       "      <td>&lt;1H OCEAN</td>\n",
       "    </tr>\n",
       "    <tr>\n",
       "      <th>1</th>\n",
       "      <td>13893</td>\n",
       "      <td>-116.27</td>\n",
       "      <td>34.13</td>\n",
       "      <td>37</td>\n",
       "      <td>452</td>\n",
       "      <td>109.0</td>\n",
       "      <td>184</td>\n",
       "      <td>59</td>\n",
       "      <td>3.7292</td>\n",
       "      <td>65800.0</td>\n",
       "      <td>INLAND</td>\n",
       "    </tr>\n",
       "    <tr>\n",
       "      <th>2</th>\n",
       "      <td>18277</td>\n",
       "      <td>-122.07</td>\n",
       "      <td>37.34</td>\n",
       "      <td>35</td>\n",
       "      <td>1172</td>\n",
       "      <td>184.0</td>\n",
       "      <td>512</td>\n",
       "      <td>175</td>\n",
       "      <td>7.3561</td>\n",
       "      <td>500001.0</td>\n",
       "      <td>&lt;1H OCEAN</td>\n",
       "    </tr>\n",
       "    <tr>\n",
       "      <th>3</th>\n",
       "      <td>16176</td>\n",
       "      <td>-122.39</td>\n",
       "      <td>37.74</td>\n",
       "      <td>52</td>\n",
       "      <td>126</td>\n",
       "      <td>24.0</td>\n",
       "      <td>37</td>\n",
       "      <td>27</td>\n",
       "      <td>10.2264</td>\n",
       "      <td>225000.0</td>\n",
       "      <td>NEAR BAY</td>\n",
       "    </tr>\n",
       "    <tr>\n",
       "      <th>4</th>\n",
       "      <td>8843</td>\n",
       "      <td>-118.38</td>\n",
       "      <td>34.09</td>\n",
       "      <td>28</td>\n",
       "      <td>4001</td>\n",
       "      <td>1352.0</td>\n",
       "      <td>1799</td>\n",
       "      <td>1220</td>\n",
       "      <td>2.5784</td>\n",
       "      <td>272900.0</td>\n",
       "      <td>&lt;1H OCEAN</td>\n",
       "    </tr>\n",
       "    <tr>\n",
       "      <th>...</th>\n",
       "      <td>...</td>\n",
       "      <td>...</td>\n",
       "      <td>...</td>\n",
       "      <td>...</td>\n",
       "      <td>...</td>\n",
       "      <td>...</td>\n",
       "      <td>...</td>\n",
       "      <td>...</td>\n",
       "      <td>...</td>\n",
       "      <td>...</td>\n",
       "      <td>...</td>\n",
       "    </tr>\n",
       "    <tr>\n",
       "      <th>14442</th>\n",
       "      <td>557</td>\n",
       "      <td>-122.25</td>\n",
       "      <td>37.77</td>\n",
       "      <td>43</td>\n",
       "      <td>4329</td>\n",
       "      <td>1110.0</td>\n",
       "      <td>2086</td>\n",
       "      <td>1053</td>\n",
       "      <td>2.9750</td>\n",
       "      <td>243400.0</td>\n",
       "      <td>NEAR BAY</td>\n",
       "    </tr>\n",
       "    <tr>\n",
       "      <th>14443</th>\n",
       "      <td>16090</td>\n",
       "      <td>-122.48</td>\n",
       "      <td>37.71</td>\n",
       "      <td>43</td>\n",
       "      <td>3850</td>\n",
       "      <td>1018.0</td>\n",
       "      <td>1497</td>\n",
       "      <td>829</td>\n",
       "      <td>3.5296</td>\n",
       "      <td>400000.0</td>\n",
       "      <td>NEAR OCEAN</td>\n",
       "    </tr>\n",
       "    <tr>\n",
       "      <th>14444</th>\n",
       "      <td>9083</td>\n",
       "      <td>-118.17</td>\n",
       "      <td>34.69</td>\n",
       "      <td>12</td>\n",
       "      <td>4881</td>\n",
       "      <td>803.0</td>\n",
       "      <td>2188</td>\n",
       "      <td>724</td>\n",
       "      <td>4.1667</td>\n",
       "      <td>171900.0</td>\n",
       "      <td>INLAND</td>\n",
       "    </tr>\n",
       "    <tr>\n",
       "      <th>14445</th>\n",
       "      <td>13138</td>\n",
       "      <td>-121.44</td>\n",
       "      <td>38.47</td>\n",
       "      <td>5</td>\n",
       "      <td>5666</td>\n",
       "      <td>1178.0</td>\n",
       "      <td>3139</td>\n",
       "      <td>1131</td>\n",
       "      <td>3.3608</td>\n",
       "      <td>108900.0</td>\n",
       "      <td>INLAND</td>\n",
       "    </tr>\n",
       "    <tr>\n",
       "      <th>14446</th>\n",
       "      <td>11554</td>\n",
       "      <td>-117.98</td>\n",
       "      <td>33.74</td>\n",
       "      <td>29</td>\n",
       "      <td>3443</td>\n",
       "      <td>635.0</td>\n",
       "      <td>2257</td>\n",
       "      <td>620</td>\n",
       "      <td>4.7404</td>\n",
       "      <td>207500.0</td>\n",
       "      <td>&lt;1H OCEAN</td>\n",
       "    </tr>\n",
       "  </tbody>\n",
       "</table>\n",
       "<p>14310 rows × 11 columns</p>\n",
       "</div>"
      ],
      "text/plain": [
       "          id  longitude  latitude  housing_median_age  total_rooms  \\\n",
       "0       9744    -121.65     36.77                  15         2191   \n",
       "1      13893    -116.27     34.13                  37          452   \n",
       "2      18277    -122.07     37.34                  35         1172   \n",
       "3      16176    -122.39     37.74                  52          126   \n",
       "4       8843    -118.38     34.09                  28         4001   \n",
       "...      ...        ...       ...                 ...          ...   \n",
       "14442    557    -122.25     37.77                  43         4329   \n",
       "14443  16090    -122.48     37.71                  43         3850   \n",
       "14444   9083    -118.17     34.69                  12         4881   \n",
       "14445  13138    -121.44     38.47                   5         5666   \n",
       "14446  11554    -117.98     33.74                  29         3443   \n",
       "\n",
       "       total_bedrooms  population  households  median_income  \\\n",
       "0               358.0        1150         330         4.7969   \n",
       "1               109.0         184          59         3.7292   \n",
       "2               184.0         512         175         7.3561   \n",
       "3                24.0          37          27        10.2264   \n",
       "4              1352.0        1799        1220         2.5784   \n",
       "...               ...         ...         ...            ...   \n",
       "14442          1110.0        2086        1053         2.9750   \n",
       "14443          1018.0        1497         829         3.5296   \n",
       "14444           803.0        2188         724         4.1667   \n",
       "14445          1178.0        3139        1131         3.3608   \n",
       "14446           635.0        2257         620         4.7404   \n",
       "\n",
       "       median_house_value ocean_proximity  \n",
       "0                227500.0       <1H OCEAN  \n",
       "1                 65800.0          INLAND  \n",
       "2                500001.0       <1H OCEAN  \n",
       "3                225000.0        NEAR BAY  \n",
       "4                272900.0       <1H OCEAN  \n",
       "...                   ...             ...  \n",
       "14442            243400.0        NEAR BAY  \n",
       "14443            400000.0      NEAR OCEAN  \n",
       "14444            171900.0          INLAND  \n",
       "14445            108900.0          INLAND  \n",
       "14446            207500.0       <1H OCEAN  \n",
       "\n",
       "[14310 rows x 11 columns]"
      ]
     },
     "execution_count": 86,
     "metadata": {},
     "output_type": "execute_result"
    }
   ],
   "source": [
    "## Eliminar del dataset los NaN\n",
    "data_no_Nan=data.dropna()\n",
    "data_no_Nan"
   ]
  },
  {
   "cell_type": "code",
   "execution_count": 96,
   "metadata": {},
   "outputs": [
    {
     "data": {
      "image/png": "[encoded data removed]",
      "text/plain": [
       "<Figure size 640x480 with 1 Axes>"
      ]
     },
     "metadata": {},
     "output_type": "display_data"
    }
   ],
   "source": [
    "## Grafica para comparar la distorcion de la data original contra la data sin NAN\n",
    "data['total_bedrooms'].hist(bins=50,density=True,color='red',alpha=0.2)\n",
    "data_no_Nan['total_bedrooms'].hist(bins=50,density=True,color='blue',alpha=0.2)\n",
    "plt.show()"
   ]
  },
  {
   "attachments": {},
   "cell_type": "markdown",
   "metadata": {},
   "source": [
    "##### b. Media y Mediana "
   ]
  },
  {
   "cell_type": "code",
   "execution_count": 87,
   "metadata": {},
   "outputs": [
    {
     "name": "stdout",
     "output_type": "stream",
     "text": [
      "Media:  537.7787561146051\n",
      "Mediana:  433.0\n"
     ]
    }
   ],
   "source": [
    "## Obtener la Media y Mediana\n",
    "\n",
    "media=data['total_bedrooms'].mean()\n",
    "mediana=data['total_bedrooms'].median()\n",
    "print(\"Media: \",media)\n",
    "print(\"Mediana: \",mediana)"
   ]
  },
  {
   "cell_type": "code",
   "execution_count": 88,
   "metadata": {},
   "outputs": [
    {
     "data": {
      "text/html": [
       "<div>\n",
       "<style scoped>\n",
       "    .dataframe tbody tr th:only-of-type {\n",
       "        vertical-align: middle;\n",
       "    }\n",
       "\n",
       "    .dataframe tbody tr th {\n",
       "        vertical-align: top;\n",
       "    }\n",
       "\n",
       "    .dataframe thead th {\n",
       "        text-align: right;\n",
       "    }\n",
       "</style>\n",
       "<table border=\"1\" class=\"dataframe\">\n",
       "  <thead>\n",
       "    <tr style=\"text-align: right;\">\n",
       "      <th></th>\n",
       "      <th>total_bedrooms</th>\n",
       "      <th>media_total_bedrooms</th>\n",
       "      <th>mediana_total_bedrooms</th>\n",
       "    </tr>\n",
       "  </thead>\n",
       "  <tbody>\n",
       "    <tr>\n",
       "      <th>18</th>\n",
       "      <td>NaN</td>\n",
       "      <td>538.0</td>\n",
       "      <td>433.0</td>\n",
       "    </tr>\n",
       "    <tr>\n",
       "      <th>379</th>\n",
       "      <td>NaN</td>\n",
       "      <td>538.0</td>\n",
       "      <td>433.0</td>\n",
       "    </tr>\n",
       "    <tr>\n",
       "      <th>605</th>\n",
       "      <td>NaN</td>\n",
       "      <td>538.0</td>\n",
       "      <td>433.0</td>\n",
       "    </tr>\n",
       "    <tr>\n",
       "      <th>743</th>\n",
       "      <td>NaN</td>\n",
       "      <td>538.0</td>\n",
       "      <td>433.0</td>\n",
       "    </tr>\n",
       "    <tr>\n",
       "      <th>923</th>\n",
       "      <td>NaN</td>\n",
       "      <td>538.0</td>\n",
       "      <td>433.0</td>\n",
       "    </tr>\n",
       "    <tr>\n",
       "      <th>...</th>\n",
       "      <td>...</td>\n",
       "      <td>...</td>\n",
       "      <td>...</td>\n",
       "    </tr>\n",
       "    <tr>\n",
       "      <th>14162</th>\n",
       "      <td>NaN</td>\n",
       "      <td>538.0</td>\n",
       "      <td>433.0</td>\n",
       "    </tr>\n",
       "    <tr>\n",
       "      <th>14235</th>\n",
       "      <td>NaN</td>\n",
       "      <td>538.0</td>\n",
       "      <td>433.0</td>\n",
       "    </tr>\n",
       "    <tr>\n",
       "      <th>14273</th>\n",
       "      <td>NaN</td>\n",
       "      <td>538.0</td>\n",
       "      <td>433.0</td>\n",
       "    </tr>\n",
       "    <tr>\n",
       "      <th>14275</th>\n",
       "      <td>NaN</td>\n",
       "      <td>538.0</td>\n",
       "      <td>433.0</td>\n",
       "    </tr>\n",
       "    <tr>\n",
       "      <th>14322</th>\n",
       "      <td>NaN</td>\n",
       "      <td>538.0</td>\n",
       "      <td>433.0</td>\n",
       "    </tr>\n",
       "  </tbody>\n",
       "</table>\n",
       "<p>137 rows × 3 columns</p>\n",
       "</div>"
      ],
      "text/plain": [
       "       total_bedrooms  media_total_bedrooms  mediana_total_bedrooms\n",
       "18                NaN                 538.0                   433.0\n",
       "379               NaN                 538.0                   433.0\n",
       "605               NaN                 538.0                   433.0\n",
       "743               NaN                 538.0                   433.0\n",
       "923               NaN                 538.0                   433.0\n",
       "...               ...                   ...                     ...\n",
       "14162             NaN                 538.0                   433.0\n",
       "14235             NaN                 538.0                   433.0\n",
       "14273             NaN                 538.0                   433.0\n",
       "14275             NaN                 538.0                   433.0\n",
       "14322             NaN                 538.0                   433.0\n",
       "\n",
       "[137 rows x 3 columns]"
      ]
     },
     "execution_count": 88,
     "metadata": {},
     "output_type": "execute_result"
    }
   ],
   "source": [
    "## Crear variables con la media y mediana en lugar de los NaN\n",
    "data['media_total_bedrooms']=np.round(data['total_bedrooms'].fillna(media),0)\n",
    "data['mediana_total_bedrooms']=np.round(data['total_bedrooms'].fillna(mediana),0)\n",
    "data[['total_bedrooms','media_total_bedrooms','mediana_total_bedrooms']][data.total_bedrooms.isnull()]"
   ]
  },
  {
   "cell_type": "code",
   "execution_count": 101,
   "metadata": {},
   "outputs": [
    {
     "data": {
      "image/png": "[encoded data removed]",
      "text/plain": [
       "<Figure size 640x480 with 1 Axes>"
      ]
     },
     "metadata": {},
     "output_type": "display_data"
    }
   ],
   "source": [
    "##Graficas para observar la distorcion entre la variable original, la imputación de media y la imputación de mediana\n",
    "fig=plt.figure()\n",
    "ax=fig.add_subplot(111)\n",
    "\n",
    "data['total_bedrooms'].plot.density(color='red',label='Original')\n",
    "data['media_total_bedrooms'].plot.density(color='blue',label='Media')\n",
    "data['mediana_total_bedrooms'].plot.density(color='green',label='Mediana')\n",
    "ax.legend()\n",
    "plt.show()"
   ]
  },
  {
   "cell_type": "code",
   "execution_count": 106,
   "metadata": {},
   "outputs": [],
   "source": [
    "##Se elige la media para imputar los nulos y se convierte la columna original en la columna nueva sin nulos\n",
    "\n",
    "data['total_bedrooms']=data['media_total_bedrooms']\n",
    "\n",
    "##Eliminar las columnas creadas de media y mediana, que sirvieron solo para analizar, para volver al dataset original pero con la columna imputada\n",
    "\n",
    "data.drop(['media_total_bedrooms','mediana_total_bedrooms'],axis=1,inplace=True)"
   ]
  },
  {
   "attachments": {},
   "cell_type": "markdown",
   "metadata": {},
   "source": [
    "#### 4. Imputación de datos categoricos"
   ]
  },
  {
   "cell_type": "code",
   "execution_count": null,
   "metadata": {},
   "outputs": [],
   "source": [
    "## No hay datos categoricos que imputar, unicamente una variable numerica"
   ]
  },
  {
   "attachments": {},
   "cell_type": "markdown",
   "metadata": {},
   "source": [
    "#### 5. Codificación de variables categóricas"
   ]
  },
  {
   "cell_type": "code",
   "execution_count": 111,
   "metadata": {},
   "outputs": [
    {
     "data": {
      "text/plain": [
       "<1H OCEAN     6384\n",
       "INLAND        4577\n",
       "NEAR OCEAN    1865\n",
       "NEAR BAY      1619\n",
       "ISLAND           2\n",
       "Name: ocean_proximity, dtype: int64"
      ]
     },
     "execution_count": 111,
     "metadata": {},
     "output_type": "execute_result"
    }
   ],
   "source": [
    "## La unica variable categorica es ocean_proximity\n",
    "data['ocean_proximity'].value_counts()"
   ]
  },
  {
   "cell_type": "code",
   "execution_count": 114,
   "metadata": {},
   "outputs": [
    {
     "name": "stdout",
     "output_type": "stream",
     "text": [
      "{'<1H OCEAN': 6384, 'INLAND': 4577, 'NEAR OCEAN': 1865, 'NEAR BAY': 1619, 'ISLAND': 2}\n"
     ]
    }
   ],
   "source": [
    "''' Por tener mas de 3 categorias No se elige One Hote Encoding.\n",
    "    Se elige Codificación por Frecuencia '''\n",
    "\n",
    "## Crear el diccionario con las frecuencias de la variable categorica \n",
    "\n",
    "ocean_proximity_freq_mapper=(data['ocean_proximity'].value_counts().sort_values(ascending=False)).to_dict()\n",
    "print(ocean_proximity_freq_mapper)\n",
    "\n",
    "\n",
    "## Hacer el mapeo de las frecuencias con las variables\n",
    "\n",
    "data['ocean_proximity_code']=data['ocean_proximity'].map(ocean_proximity_freq_mapper)\n"
   ]
  },
  {
   "cell_type": "code",
   "execution_count": 115,
   "metadata": {},
   "outputs": [
    {
     "data": {
      "text/html": [
       "<div>\n",
       "<style scoped>\n",
       "    .dataframe tbody tr th:only-of-type {\n",
       "        vertical-align: middle;\n",
       "    }\n",
       "\n",
       "    .dataframe tbody tr th {\n",
       "        vertical-align: top;\n",
       "    }\n",
       "\n",
       "    .dataframe thead th {\n",
       "        text-align: right;\n",
       "    }\n",
       "</style>\n",
       "<table border=\"1\" class=\"dataframe\">\n",
       "  <thead>\n",
       "    <tr style=\"text-align: right;\">\n",
       "      <th></th>\n",
       "      <th>id</th>\n",
       "      <th>longitude</th>\n",
       "      <th>latitude</th>\n",
       "      <th>housing_median_age</th>\n",
       "      <th>total_rooms</th>\n",
       "      <th>total_bedrooms</th>\n",
       "      <th>population</th>\n",
       "      <th>households</th>\n",
       "      <th>median_income</th>\n",
       "      <th>median_house_value</th>\n",
       "      <th>ocean_proximity</th>\n",
       "      <th>ocean_proximity_code</th>\n",
       "    </tr>\n",
       "  </thead>\n",
       "  <tbody>\n",
       "    <tr>\n",
       "      <th>0</th>\n",
       "      <td>9744</td>\n",
       "      <td>-121.65</td>\n",
       "      <td>36.77</td>\n",
       "      <td>15</td>\n",
       "      <td>2191</td>\n",
       "      <td>358.0</td>\n",
       "      <td>1150</td>\n",
       "      <td>330</td>\n",
       "      <td>4.7969</td>\n",
       "      <td>227500.0</td>\n",
       "      <td>&lt;1H OCEAN</td>\n",
       "      <td>6384</td>\n",
       "    </tr>\n",
       "    <tr>\n",
       "      <th>1</th>\n",
       "      <td>13893</td>\n",
       "      <td>-116.27</td>\n",
       "      <td>34.13</td>\n",
       "      <td>37</td>\n",
       "      <td>452</td>\n",
       "      <td>109.0</td>\n",
       "      <td>184</td>\n",
       "      <td>59</td>\n",
       "      <td>3.7292</td>\n",
       "      <td>65800.0</td>\n",
       "      <td>INLAND</td>\n",
       "      <td>4577</td>\n",
       "    </tr>\n",
       "    <tr>\n",
       "      <th>2</th>\n",
       "      <td>18277</td>\n",
       "      <td>-122.07</td>\n",
       "      <td>37.34</td>\n",
       "      <td>35</td>\n",
       "      <td>1172</td>\n",
       "      <td>184.0</td>\n",
       "      <td>512</td>\n",
       "      <td>175</td>\n",
       "      <td>7.3561</td>\n",
       "      <td>500001.0</td>\n",
       "      <td>&lt;1H OCEAN</td>\n",
       "      <td>6384</td>\n",
       "    </tr>\n",
       "    <tr>\n",
       "      <th>3</th>\n",
       "      <td>16176</td>\n",
       "      <td>-122.39</td>\n",
       "      <td>37.74</td>\n",
       "      <td>52</td>\n",
       "      <td>126</td>\n",
       "      <td>24.0</td>\n",
       "      <td>37</td>\n",
       "      <td>27</td>\n",
       "      <td>10.2264</td>\n",
       "      <td>225000.0</td>\n",
       "      <td>NEAR BAY</td>\n",
       "      <td>1619</td>\n",
       "    </tr>\n",
       "    <tr>\n",
       "      <th>4</th>\n",
       "      <td>8843</td>\n",
       "      <td>-118.38</td>\n",
       "      <td>34.09</td>\n",
       "      <td>28</td>\n",
       "      <td>4001</td>\n",
       "      <td>1352.0</td>\n",
       "      <td>1799</td>\n",
       "      <td>1220</td>\n",
       "      <td>2.5784</td>\n",
       "      <td>272900.0</td>\n",
       "      <td>&lt;1H OCEAN</td>\n",
       "      <td>6384</td>\n",
       "    </tr>\n",
       "    <tr>\n",
       "      <th>...</th>\n",
       "      <td>...</td>\n",
       "      <td>...</td>\n",
       "      <td>...</td>\n",
       "      <td>...</td>\n",
       "      <td>...</td>\n",
       "      <td>...</td>\n",
       "      <td>...</td>\n",
       "      <td>...</td>\n",
       "      <td>...</td>\n",
       "      <td>...</td>\n",
       "      <td>...</td>\n",
       "      <td>...</td>\n",
       "    </tr>\n",
       "    <tr>\n",
       "      <th>14442</th>\n",
       "      <td>557</td>\n",
       "      <td>-122.25</td>\n",
       "      <td>37.77</td>\n",
       "      <td>43</td>\n",
       "      <td>4329</td>\n",
       "      <td>1110.0</td>\n",
       "      <td>2086</td>\n",
       "      <td>1053</td>\n",
       "      <td>2.9750</td>\n",
       "      <td>243400.0</td>\n",
       "      <td>NEAR BAY</td>\n",
       "      <td>1619</td>\n",
       "    </tr>\n",
       "    <tr>\n",
       "      <th>14443</th>\n",
       "      <td>16090</td>\n",
       "      <td>-122.48</td>\n",
       "      <td>37.71</td>\n",
       "      <td>43</td>\n",
       "      <td>3850</td>\n",
       "      <td>1018.0</td>\n",
       "      <td>1497</td>\n",
       "      <td>829</td>\n",
       "      <td>3.5296</td>\n",
       "      <td>400000.0</td>\n",
       "      <td>NEAR OCEAN</td>\n",
       "      <td>1865</td>\n",
       "    </tr>\n",
       "    <tr>\n",
       "      <th>14444</th>\n",
       "      <td>9083</td>\n",
       "      <td>-118.17</td>\n",
       "      <td>34.69</td>\n",
       "      <td>12</td>\n",
       "      <td>4881</td>\n",
       "      <td>803.0</td>\n",
       "      <td>2188</td>\n",
       "      <td>724</td>\n",
       "      <td>4.1667</td>\n",
       "      <td>171900.0</td>\n",
       "      <td>INLAND</td>\n",
       "      <td>4577</td>\n",
       "    </tr>\n",
       "    <tr>\n",
       "      <th>14445</th>\n",
       "      <td>13138</td>\n",
       "      <td>-121.44</td>\n",
       "      <td>38.47</td>\n",
       "      <td>5</td>\n",
       "      <td>5666</td>\n",
       "      <td>1178.0</td>\n",
       "      <td>3139</td>\n",
       "      <td>1131</td>\n",
       "      <td>3.3608</td>\n",
       "      <td>108900.0</td>\n",
       "      <td>INLAND</td>\n",
       "      <td>4577</td>\n",
       "    </tr>\n",
       "    <tr>\n",
       "      <th>14446</th>\n",
       "      <td>11554</td>\n",
       "      <td>-117.98</td>\n",
       "      <td>33.74</td>\n",
       "      <td>29</td>\n",
       "      <td>3443</td>\n",
       "      <td>635.0</td>\n",
       "      <td>2257</td>\n",
       "      <td>620</td>\n",
       "      <td>4.7404</td>\n",
       "      <td>207500.0</td>\n",
       "      <td>&lt;1H OCEAN</td>\n",
       "      <td>6384</td>\n",
       "    </tr>\n",
       "  </tbody>\n",
       "</table>\n",
       "<p>14447 rows × 12 columns</p>\n",
       "</div>"
      ],
      "text/plain": [
       "          id  longitude  latitude  housing_median_age  total_rooms  \\\n",
       "0       9744    -121.65     36.77                  15         2191   \n",
       "1      13893    -116.27     34.13                  37          452   \n",
       "2      18277    -122.07     37.34                  35         1172   \n",
       "3      16176    -122.39     37.74                  52          126   \n",
       "4       8843    -118.38     34.09                  28         4001   \n",
       "...      ...        ...       ...                 ...          ...   \n",
       "14442    557    -122.25     37.77                  43         4329   \n",
       "14443  16090    -122.48     37.71                  43         3850   \n",
       "14444   9083    -118.17     34.69                  12         4881   \n",
       "14445  13138    -121.44     38.47                   5         5666   \n",
       "14446  11554    -117.98     33.74                  29         3443   \n",
       "\n",
       "       total_bedrooms  population  households  median_income  \\\n",
       "0               358.0        1150         330         4.7969   \n",
       "1               109.0         184          59         3.7292   \n",
       "2               184.0         512         175         7.3561   \n",
       "3                24.0          37          27        10.2264   \n",
       "4              1352.0        1799        1220         2.5784   \n",
       "...               ...         ...         ...            ...   \n",
       "14442          1110.0        2086        1053         2.9750   \n",
       "14443          1018.0        1497         829         3.5296   \n",
       "14444           803.0        2188         724         4.1667   \n",
       "14445          1178.0        3139        1131         3.3608   \n",
       "14446           635.0        2257         620         4.7404   \n",
       "\n",
       "       median_house_value ocean_proximity  ocean_proximity_code  \n",
       "0                227500.0       <1H OCEAN                  6384  \n",
       "1                 65800.0          INLAND                  4577  \n",
       "2                500001.0       <1H OCEAN                  6384  \n",
       "3                225000.0        NEAR BAY                  1619  \n",
       "4                272900.0       <1H OCEAN                  6384  \n",
       "...                   ...             ...                   ...  \n",
       "14442            243400.0        NEAR BAY                  1619  \n",
       "14443            400000.0      NEAR OCEAN                  1865  \n",
       "14444            171900.0          INLAND                  4577  \n",
       "14445            108900.0          INLAND                  4577  \n",
       "14446            207500.0       <1H OCEAN                  6384  \n",
       "\n",
       "[14447 rows x 12 columns]"
      ]
     },
     "execution_count": 115,
     "metadata": {},
     "output_type": "execute_result"
    }
   ],
   "source": [
    "data"
   ]
  },
  {
   "cell_type": "code",
   "execution_count": 125,
   "metadata": {},
   "outputs": [
    {
     "data": {
      "text/plain": [
       "id                        int64\n",
       "longitude               float64\n",
       "latitude                float64\n",
       "housing_median_age        int64\n",
       "total_rooms               int64\n",
       "total_bedrooms          float64\n",
       "population                int64\n",
       "households                int64\n",
       "median_income           float64\n",
       "median_house_value      float64\n",
       "ocean_proximity_code      int64\n",
       "dtype: object"
      ]
     },
     "execution_count": 125,
     "metadata": {},
     "output_type": "execute_result"
    }
   ],
   "source": [
    "## Dejar unicamente variables numericas\n",
    "data.drop(['ocean_proximity'],axis=1,inplace=True)\n",
    "data.dtypes"
   ]
  },
  {
   "attachments": {},
   "cell_type": "markdown",
   "metadata": {},
   "source": [
    "#### 6. Feature Scaling"
   ]
  },
  {
   "cell_type": "code",
   "execution_count": null,
   "metadata": {},
   "outputs": [],
   "source": []
  }
 ],
 "metadata": {
  "kernelspec": {
   "display_name": "PythonClass",
   "language": "python",
   "name": "python3"
  },
  "language_info": {
   "codemirror_mode": {
    "name": "ipython",
    "version": 3
   },
   "file_extension": ".py",
   "mimetype": "text/x-python",
   "name": "python",
   "nbconvert_exporter": "python",
   "pygments_lexer": "ipython3",
   "version": "3.8.16"
  },
  "orig_nbformat": 4
 },
 "nbformat": 4,
 "nbformat_minor": 2
}
